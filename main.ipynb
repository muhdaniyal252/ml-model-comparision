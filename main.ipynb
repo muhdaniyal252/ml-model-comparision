{
 "cells": [
  {
   "cell_type": "code",
   "execution_count": 1,
   "metadata": {},
   "outputs": [],
   "source": [
    "import pandas as pd\n",
    "import matplotlib.pyplot as plt\n",
    "from sklearn.model_selection import train_test_split \n",
    "from sklearn.metrics  import accuracy_score,confusion_matrix,ConfusionMatrixDisplay\n",
    "from sklearn.preprocessing import MinMaxScaler"
   ]
  },
  {
   "cell_type": "code",
   "execution_count": 2,
   "metadata": {},
   "outputs": [],
   "source": [
    "from sklearn.tree import ExtraTreeClassifier\n",
    "from sklearn.tree import DecisionTreeClassifier\n",
    "from sklearn.svm import OneClassSVM\n",
    "from sklearn.neural_network import MLPClassifier\n",
    "from sklearn.neighbors import RadiusNeighborsClassifier\n",
    "from sklearn.neighbors import KNeighborsClassifier\n",
    "from sklearn.multioutput import ClassifierChain\n",
    "from sklearn.multioutput import MultiOutputClassifier\n",
    "from sklearn.multiclass import OutputCodeClassifier\n",
    "from sklearn.multiclass import OneVsOneClassifier\n",
    "from sklearn.multiclass import OneVsRestClassifier\n",
    "from sklearn.linear_model import SGDClassifier\n",
    "from sklearn.linear_model import RidgeClassifierCV\n",
    "from sklearn.linear_model import RidgeClassifier\n",
    "from sklearn.linear_model import PassiveAggressiveClassifier    \n",
    "from sklearn.gaussian_process import GaussianProcessClassifier\n",
    "from sklearn.ensemble import VotingClassifier\n",
    "from sklearn.ensemble import AdaBoostClassifier\n",
    "from sklearn.ensemble import GradientBoostingClassifier\n",
    "from sklearn.ensemble import BaggingClassifier\n",
    "from sklearn.ensemble import ExtraTreesClassifier\n",
    "from sklearn.ensemble import RandomForestClassifier\n",
    "from sklearn.naive_bayes import BernoulliNB\n",
    "from sklearn.calibration import CalibratedClassifierCV\n",
    "from sklearn.naive_bayes import GaussianNB\n",
    "from sklearn.semi_supervised import LabelPropagation\n",
    "from sklearn.semi_supervised import LabelSpreading\n",
    "from sklearn.discriminant_analysis import LinearDiscriminantAnalysis\n",
    "from sklearn.svm import LinearSVC\n",
    "from sklearn.linear_model import LogisticRegression\n",
    "from sklearn.linear_model import LogisticRegressionCV\n",
    "from sklearn.linear_model import SGDClassifier\n",
    "from sklearn.naive_bayes import MultinomialNB  \n",
    "from sklearn.neighbors import NearestCentroid\n",
    "from sklearn.neighbors import KNeighborsClassifier\n",
    "from sklearn.svm import NuSVC\n",
    "from sklearn.linear_model import Perceptron\n",
    "from sklearn.discriminant_analysis import QuadraticDiscriminantAnalysis\n",
    "from sklearn.svm import SVC\n",
    "from sklearn.mixture import BayesianGaussianMixture\n",
    "from sklearn.mixture import GaussianMixture"
   ]
  },
  {
   "cell_type": "code",
   "execution_count": 3,
   "metadata": {},
   "outputs": [
    {
     "data": {
      "text/plain": [
       "(153000, 5)"
      ]
     },
     "execution_count": 3,
     "metadata": {},
     "output_type": "execute_result"
    }
   ],
   "source": [
    "df = pd.read_csv('accelerometer.csv')\n",
    "df.shape"
   ]
  },
  {
   "cell_type": "code",
   "execution_count": 4,
   "metadata": {},
   "outputs": [
    {
     "name": "stdout",
     "output_type": "stream",
     "text": [
      "<class 'pandas.core.frame.DataFrame'>\n",
      "RangeIndex: 153000 entries, 0 to 152999\n",
      "Data columns (total 5 columns):\n",
      " #   Column   Non-Null Count   Dtype  \n",
      "---  ------   --------------   -----  \n",
      " 0   wconfid  153000 non-null  int64  \n",
      " 1   pctid    153000 non-null  int64  \n",
      " 2   x        153000 non-null  float64\n",
      " 3   y        153000 non-null  float64\n",
      " 4   z        153000 non-null  float64\n",
      "dtypes: float64(3), int64(2)\n",
      "memory usage: 5.8 MB\n"
     ]
    }
   ],
   "source": [
    "df.info()"
   ]
  },
  {
   "cell_type": "code",
   "execution_count": 5,
   "metadata": {},
   "outputs": [
    {
     "data": {
      "text/html": [
       "<div>\n",
       "<style scoped>\n",
       "    .dataframe tbody tr th:only-of-type {\n",
       "        vertical-align: middle;\n",
       "    }\n",
       "\n",
       "    .dataframe tbody tr th {\n",
       "        vertical-align: top;\n",
       "    }\n",
       "\n",
       "    .dataframe thead th {\n",
       "        text-align: right;\n",
       "    }\n",
       "</style>\n",
       "<table border=\"1\" class=\"dataframe\">\n",
       "  <thead>\n",
       "    <tr style=\"text-align: right;\">\n",
       "      <th></th>\n",
       "      <th>wconfid</th>\n",
       "      <th>pctid</th>\n",
       "      <th>x</th>\n",
       "      <th>y</th>\n",
       "      <th>z</th>\n",
       "    </tr>\n",
       "  </thead>\n",
       "  <tbody>\n",
       "    <tr>\n",
       "      <th>0</th>\n",
       "      <td>1</td>\n",
       "      <td>20</td>\n",
       "      <td>1.004</td>\n",
       "      <td>0.090</td>\n",
       "      <td>-0.125</td>\n",
       "    </tr>\n",
       "    <tr>\n",
       "      <th>1</th>\n",
       "      <td>1</td>\n",
       "      <td>20</td>\n",
       "      <td>1.004</td>\n",
       "      <td>-0.043</td>\n",
       "      <td>-0.125</td>\n",
       "    </tr>\n",
       "    <tr>\n",
       "      <th>2</th>\n",
       "      <td>1</td>\n",
       "      <td>20</td>\n",
       "      <td>0.969</td>\n",
       "      <td>0.090</td>\n",
       "      <td>-0.121</td>\n",
       "    </tr>\n",
       "    <tr>\n",
       "      <th>3</th>\n",
       "      <td>1</td>\n",
       "      <td>20</td>\n",
       "      <td>0.973</td>\n",
       "      <td>-0.012</td>\n",
       "      <td>-0.137</td>\n",
       "    </tr>\n",
       "    <tr>\n",
       "      <th>4</th>\n",
       "      <td>1</td>\n",
       "      <td>20</td>\n",
       "      <td>1.000</td>\n",
       "      <td>-0.016</td>\n",
       "      <td>-0.121</td>\n",
       "    </tr>\n",
       "  </tbody>\n",
       "</table>\n",
       "</div>"
      ],
      "text/plain": [
       "   wconfid  pctid      x      y      z\n",
       "0        1     20  1.004  0.090 -0.125\n",
       "1        1     20  1.004 -0.043 -0.125\n",
       "2        1     20  0.969  0.090 -0.121\n",
       "3        1     20  0.973 -0.012 -0.137\n",
       "4        1     20  1.000 -0.016 -0.121"
      ]
     },
     "execution_count": 5,
     "metadata": {},
     "output_type": "execute_result"
    }
   ],
   "source": [
    "df.head()"
   ]
  },
  {
   "cell_type": "code",
   "execution_count": 6,
   "metadata": {},
   "outputs": [
    {
     "data": {
      "text/html": [
       "<div>\n",
       "<style scoped>\n",
       "    .dataframe tbody tr th:only-of-type {\n",
       "        vertical-align: middle;\n",
       "    }\n",
       "\n",
       "    .dataframe tbody tr th {\n",
       "        vertical-align: top;\n",
       "    }\n",
       "\n",
       "    .dataframe thead th {\n",
       "        text-align: right;\n",
       "    }\n",
       "</style>\n",
       "<table border=\"1\" class=\"dataframe\">\n",
       "  <thead>\n",
       "    <tr style=\"text-align: right;\">\n",
       "      <th></th>\n",
       "      <th>wconfid</th>\n",
       "      <th>pctid</th>\n",
       "      <th>x</th>\n",
       "      <th>y</th>\n",
       "      <th>z</th>\n",
       "    </tr>\n",
       "  </thead>\n",
       "  <tbody>\n",
       "    <tr>\n",
       "      <th>count</th>\n",
       "      <td>153000.000000</td>\n",
       "      <td>153000.000000</td>\n",
       "      <td>153000.000000</td>\n",
       "      <td>153000.000000</td>\n",
       "      <td>153000.000000</td>\n",
       "    </tr>\n",
       "    <tr>\n",
       "      <th>mean</th>\n",
       "      <td>2.000000</td>\n",
       "      <td>60.000000</td>\n",
       "      <td>0.995622</td>\n",
       "      <td>0.005351</td>\n",
       "      <td>-0.117769</td>\n",
       "    </tr>\n",
       "    <tr>\n",
       "      <th>std</th>\n",
       "      <td>0.816499</td>\n",
       "      <td>24.494977</td>\n",
       "      <td>0.773958</td>\n",
       "      <td>0.742602</td>\n",
       "      <td>0.517008</td>\n",
       "    </tr>\n",
       "    <tr>\n",
       "      <th>min</th>\n",
       "      <td>1.000000</td>\n",
       "      <td>20.000000</td>\n",
       "      <td>-8.000000</td>\n",
       "      <td>-8.000000</td>\n",
       "      <td>-5.867000</td>\n",
       "    </tr>\n",
       "    <tr>\n",
       "      <th>25%</th>\n",
       "      <td>1.000000</td>\n",
       "      <td>40.000000</td>\n",
       "      <td>0.945000</td>\n",
       "      <td>-0.078000</td>\n",
       "      <td>-0.172000</td>\n",
       "    </tr>\n",
       "    <tr>\n",
       "      <th>50%</th>\n",
       "      <td>2.000000</td>\n",
       "      <td>60.000000</td>\n",
       "      <td>0.992000</td>\n",
       "      <td>0.008000</td>\n",
       "      <td>-0.125000</td>\n",
       "    </tr>\n",
       "    <tr>\n",
       "      <th>75%</th>\n",
       "      <td>3.000000</td>\n",
       "      <td>80.000000</td>\n",
       "      <td>1.039000</td>\n",
       "      <td>0.105000</td>\n",
       "      <td>-0.066000</td>\n",
       "    </tr>\n",
       "    <tr>\n",
       "      <th>max</th>\n",
       "      <td>3.000000</td>\n",
       "      <td>100.000000</td>\n",
       "      <td>7.996000</td>\n",
       "      <td>7.996000</td>\n",
       "      <td>6.086000</td>\n",
       "    </tr>\n",
       "  </tbody>\n",
       "</table>\n",
       "</div>"
      ],
      "text/plain": [
       "             wconfid          pctid              x              y   \n",
       "count  153000.000000  153000.000000  153000.000000  153000.000000  \\\n",
       "mean        2.000000      60.000000       0.995622       0.005351   \n",
       "std         0.816499      24.494977       0.773958       0.742602   \n",
       "min         1.000000      20.000000      -8.000000      -8.000000   \n",
       "25%         1.000000      40.000000       0.945000      -0.078000   \n",
       "50%         2.000000      60.000000       0.992000       0.008000   \n",
       "75%         3.000000      80.000000       1.039000       0.105000   \n",
       "max         3.000000     100.000000       7.996000       7.996000   \n",
       "\n",
       "                   z  \n",
       "count  153000.000000  \n",
       "mean       -0.117769  \n",
       "std         0.517008  \n",
       "min        -5.867000  \n",
       "25%        -0.172000  \n",
       "50%        -0.125000  \n",
       "75%        -0.066000  \n",
       "max         6.086000  "
      ]
     },
     "execution_count": 6,
     "metadata": {},
     "output_type": "execute_result"
    }
   ],
   "source": [
    "df.describe()"
   ]
  },
  {
   "cell_type": "code",
   "execution_count": 7,
   "metadata": {},
   "outputs": [
    {
     "data": {
      "text/plain": [
       "wconfid    0\n",
       "pctid      0\n",
       "x          0\n",
       "y          0\n",
       "z          0\n",
       "dtype: int64"
      ]
     },
     "execution_count": 7,
     "metadata": {},
     "output_type": "execute_result"
    }
   ],
   "source": [
    "df.isna().sum()"
   ]
  },
  {
   "cell_type": "code",
   "execution_count": 8,
   "metadata": {},
   "outputs": [],
   "source": [
    "scaler = MinMaxScaler(feature_range=(-10,10))\n",
    "df['pctid'] = scaler.fit_transform(df[['pctid']])\n"
   ]
  },
  {
   "cell_type": "code",
   "execution_count": 9,
   "metadata": {},
   "outputs": [
    {
     "data": {
      "text/html": [
       "<div>\n",
       "<style scoped>\n",
       "    .dataframe tbody tr th:only-of-type {\n",
       "        vertical-align: middle;\n",
       "    }\n",
       "\n",
       "    .dataframe tbody tr th {\n",
       "        vertical-align: top;\n",
       "    }\n",
       "\n",
       "    .dataframe thead th {\n",
       "        text-align: right;\n",
       "    }\n",
       "</style>\n",
       "<table border=\"1\" class=\"dataframe\">\n",
       "  <thead>\n",
       "    <tr style=\"text-align: right;\">\n",
       "      <th></th>\n",
       "      <th>wconfid</th>\n",
       "      <th>pctid</th>\n",
       "      <th>x</th>\n",
       "      <th>y</th>\n",
       "      <th>z</th>\n",
       "    </tr>\n",
       "  </thead>\n",
       "  <tbody>\n",
       "    <tr>\n",
       "      <th>count</th>\n",
       "      <td>153000.000000</td>\n",
       "      <td>153000.000000</td>\n",
       "      <td>153000.000000</td>\n",
       "      <td>153000.000000</td>\n",
       "      <td>153000.000000</td>\n",
       "    </tr>\n",
       "    <tr>\n",
       "      <th>mean</th>\n",
       "      <td>2.000000</td>\n",
       "      <td>0.000000</td>\n",
       "      <td>0.995622</td>\n",
       "      <td>0.005351</td>\n",
       "      <td>-0.117769</td>\n",
       "    </tr>\n",
       "    <tr>\n",
       "      <th>std</th>\n",
       "      <td>0.816499</td>\n",
       "      <td>6.123744</td>\n",
       "      <td>0.773958</td>\n",
       "      <td>0.742602</td>\n",
       "      <td>0.517008</td>\n",
       "    </tr>\n",
       "    <tr>\n",
       "      <th>min</th>\n",
       "      <td>1.000000</td>\n",
       "      <td>-10.000000</td>\n",
       "      <td>-8.000000</td>\n",
       "      <td>-8.000000</td>\n",
       "      <td>-5.867000</td>\n",
       "    </tr>\n",
       "    <tr>\n",
       "      <th>25%</th>\n",
       "      <td>1.000000</td>\n",
       "      <td>-5.000000</td>\n",
       "      <td>0.945000</td>\n",
       "      <td>-0.078000</td>\n",
       "      <td>-0.172000</td>\n",
       "    </tr>\n",
       "    <tr>\n",
       "      <th>50%</th>\n",
       "      <td>2.000000</td>\n",
       "      <td>0.000000</td>\n",
       "      <td>0.992000</td>\n",
       "      <td>0.008000</td>\n",
       "      <td>-0.125000</td>\n",
       "    </tr>\n",
       "    <tr>\n",
       "      <th>75%</th>\n",
       "      <td>3.000000</td>\n",
       "      <td>5.000000</td>\n",
       "      <td>1.039000</td>\n",
       "      <td>0.105000</td>\n",
       "      <td>-0.066000</td>\n",
       "    </tr>\n",
       "    <tr>\n",
       "      <th>max</th>\n",
       "      <td>3.000000</td>\n",
       "      <td>10.000000</td>\n",
       "      <td>7.996000</td>\n",
       "      <td>7.996000</td>\n",
       "      <td>6.086000</td>\n",
       "    </tr>\n",
       "  </tbody>\n",
       "</table>\n",
       "</div>"
      ],
      "text/plain": [
       "             wconfid          pctid              x              y   \n",
       "count  153000.000000  153000.000000  153000.000000  153000.000000  \\\n",
       "mean        2.000000       0.000000       0.995622       0.005351   \n",
       "std         0.816499       6.123744       0.773958       0.742602   \n",
       "min         1.000000     -10.000000      -8.000000      -8.000000   \n",
       "25%         1.000000      -5.000000       0.945000      -0.078000   \n",
       "50%         2.000000       0.000000       0.992000       0.008000   \n",
       "75%         3.000000       5.000000       1.039000       0.105000   \n",
       "max         3.000000      10.000000       7.996000       7.996000   \n",
       "\n",
       "                   z  \n",
       "count  153000.000000  \n",
       "mean       -0.117769  \n",
       "std         0.517008  \n",
       "min        -5.867000  \n",
       "25%        -0.172000  \n",
       "50%        -0.125000  \n",
       "75%        -0.066000  \n",
       "max         6.086000  "
      ]
     },
     "execution_count": 9,
     "metadata": {},
     "output_type": "execute_result"
    }
   ],
   "source": [
    "df.describe()"
   ]
  },
  {
   "cell_type": "code",
   "execution_count": 10,
   "metadata": {},
   "outputs": [],
   "source": [
    "x = df.drop(['wconfid'],axis=1)\n",
    "y = df['wconfid'].values"
   ]
  },
  {
   "cell_type": "code",
   "execution_count": 11,
   "metadata": {},
   "outputs": [],
   "source": [
    "x_train, x_test, y_train, y_test = train_test_split(x,y, test_size=0.2,random_state=30)"
   ]
  },
  {
   "cell_type": "code",
   "execution_count": 12,
   "metadata": {},
   "outputs": [
    {
     "data": {
      "text/plain": [
       "((122400, 4), (30600, 4), (122400,), (30600,))"
      ]
     },
     "execution_count": 12,
     "metadata": {},
     "output_type": "execute_result"
    }
   ],
   "source": [
    "x_train.shape,x_test.shape,y_train.shape,y_test.shape"
   ]
  },
  {
   "cell_type": "code",
   "execution_count": 13,
   "metadata": {},
   "outputs": [],
   "source": [
    "def calculate_accuracy(actual,predicted):\n",
    "    acc = accuracy_score(actual,predicted)\n",
    "    print(f'Accuracy Score: {round(acc*100,2)}%')\n",
    "    # cnfmt = confusion_matrix(actual,predicted)\n",
    "    # disp = ConfusionMatrixDisplay(confusion_matrix=cnfmt)\n",
    "    # disp.plot()\n",
    "    # plt.show()"
   ]
  },
  {
   "cell_type": "code",
   "execution_count": 14,
   "metadata": {},
   "outputs": [],
   "source": [
    "def process_classification(object_class):\n",
    "    try:\n",
    "        obj = object_class()\n",
    "        print(obj)\n",
    "        obj.fit(x_train,y_train)\n",
    "        obj_pred = obj.predict(x_test)\n",
    "        calculate_accuracy(y_test,obj_pred)\n",
    "    except Exception as e:\n",
    "        print(e)"
   ]
  },
  {
   "cell_type": "code",
   "execution_count": 15,
   "metadata": {},
   "outputs": [],
   "source": [
    "class_objects = [\n",
    "    ExtraTreeClassifier,\n",
    "    DecisionTreeClassifier,\n",
    "    OneClassSVM,\n",
    "    MLPClassifier,\n",
    "    RadiusNeighborsClassifier,\n",
    "    KNeighborsClassifier,\n",
    "    ClassifierChain,\n",
    "    MultiOutputClassifier,\n",
    "    OutputCodeClassifier,\n",
    "    OneVsOneClassifier,\n",
    "    OneVsRestClassifier,\n",
    "    SGDClassifier,\n",
    "    RidgeClassifierCV,\n",
    "    RidgeClassifier,\n",
    "    PassiveAggressiveClassifier,\n",
    "    GaussianProcessClassifier,\n",
    "    VotingClassifier,\n",
    "    AdaBoostClassifier,\n",
    "    GradientBoostingClassifier,\n",
    "    BaggingClassifier,\n",
    "    ExtraTreesClassifier,\n",
    "    RandomForestClassifier,\n",
    "    BernoulliNB,\n",
    "    CalibratedClassifierCV,\n",
    "    GaussianNB,\n",
    "    LabelPropagation,\n",
    "    LabelSpreading,\n",
    "    LinearDiscriminantAnalysis,\n",
    "    LinearSVC,\n",
    "    LogisticRegression,\n",
    "    LogisticRegressionCV,\n",
    "    SGDClassifier,\n",
    "    MultinomialNB,\n",
    "    NearestCentroid,\n",
    "    KNeighborsClassifier,\n",
    "    NuSVC,\n",
    "    Perceptron,\n",
    "    QuadraticDiscriminantAnalysis,\n",
    "    SVC,\n",
    "    BayesianGaussianMixture,\n",
    "    GaussianMixture,\n",
    "]"
   ]
  },
  {
   "cell_type": "code",
   "execution_count": 16,
   "metadata": {},
   "outputs": [
    {
     "name": "stdout",
     "output_type": "stream",
     "text": [
      "ExtraTreeClassifier()\n",
      "Accuracy Score: 65.79%\n",
      "DecisionTreeClassifier()\n",
      "Accuracy Score: 66.84%\n",
      "OneClassSVM()\n",
      "Accuracy Score: 13.12%\n",
      "MLPClassifier()\n"
     ]
    },
    {
     "name": "stderr",
     "output_type": "stream",
     "text": [
      "/home/daniyal/working/envs/mlproject/lib/python3.10/site-packages/sklearn/neural_network/_multilayer_perceptron.py:686: ConvergenceWarning: Stochastic Optimizer: Maximum iterations (200) reached and the optimization hasn't converged yet.\n",
      "  warnings.warn(\n"
     ]
    },
    {
     "name": "stdout",
     "output_type": "stream",
     "text": [
      "Accuracy Score: 66.63%\n",
      "RadiusNeighborsClassifier()\n",
      "No neighbors found for test samples array([  506,   884,  1944,  2033,  2458,  2551,  2817,  3123,  3498,\n",
      "        3517,  3651,  4123,  4554,  4758,  4837,  5123,  5305,  5573,\n",
      "        7326,  9090,  9096,  9099,  9241,  9627, 10542, 10985, 11696,\n",
      "       11849, 12470, 12496, 14021, 15360, 16057, 17147, 17308, 17730,\n",
      "       18145, 18148, 18600, 18822, 19254, 19847, 20210, 20558, 20645,\n",
      "       21400, 21546, 21897, 21966, 22221, 22686, 23337, 24525, 25113,\n",
      "       25479, 25720, 25990, 26011, 26248, 26294, 27147, 27346, 27515,\n",
      "       27675, 27746, 27753, 28082, 28359, 28363, 28769, 28803, 29539,\n",
      "       29792, 29889, 30235, 30568]), you can try using larger radius, giving a label for outliers, or considering removing them from your dataset.\n",
      "KNeighborsClassifier()\n",
      "Accuracy Score: 71.84%\n",
      "_BaseChain.__init__() missing 1 required positional argument: 'base_estimator'\n",
      "MultiOutputClassifier.__init__() missing 1 required positional argument: 'estimator'\n",
      "OutputCodeClassifier.__init__() missing 1 required positional argument: 'estimator'\n",
      "OneVsOneClassifier.__init__() missing 1 required positional argument: 'estimator'\n",
      "OneVsRestClassifier.__init__() missing 1 required positional argument: 'estimator'\n",
      "SGDClassifier()\n",
      "Accuracy Score: 31.09%\n",
      "RidgeClassifierCV()\n",
      "Accuracy Score: 31.26%\n",
      "RidgeClassifier()\n",
      "Accuracy Score: 31.26%\n",
      "PassiveAggressiveClassifier()\n",
      "Accuracy Score: 32.79%\n",
      "GaussianProcessClassifier()\n",
      "Unable to allocate 112. GiB for an array with shape (122400, 122400) and data type float64\n",
      "VotingClassifier.__init__() missing 1 required positional argument: 'estimators'\n",
      "AdaBoostClassifier()\n",
      "Accuracy Score: 56.97%\n",
      "GradientBoostingClassifier()\n",
      "Accuracy Score: 65.53%\n",
      "BaggingClassifier()\n",
      "Accuracy Score: 69.69%\n",
      "ExtraTreesClassifier()\n",
      "Accuracy Score: 71.22%\n",
      "RandomForestClassifier()\n",
      "Accuracy Score: 71.51%\n",
      "BernoulliNB()\n",
      "Accuracy Score: 41.61%\n",
      "CalibratedClassifierCV()\n"
     ]
    },
    {
     "name": "stderr",
     "output_type": "stream",
     "text": [
      "/home/daniyal/working/envs/mlproject/lib/python3.10/site-packages/sklearn/svm/_base.py:1244: ConvergenceWarning: Liblinear failed to converge, increase the number of iterations.\n",
      "  warnings.warn(\n",
      "/home/daniyal/working/envs/mlproject/lib/python3.10/site-packages/sklearn/svm/_base.py:1244: ConvergenceWarning: Liblinear failed to converge, increase the number of iterations.\n",
      "  warnings.warn(\n",
      "/home/daniyal/working/envs/mlproject/lib/python3.10/site-packages/sklearn/svm/_base.py:1244: ConvergenceWarning: Liblinear failed to converge, increase the number of iterations.\n",
      "  warnings.warn(\n",
      "/home/daniyal/working/envs/mlproject/lib/python3.10/site-packages/sklearn/svm/_base.py:1244: ConvergenceWarning: Liblinear failed to converge, increase the number of iterations.\n",
      "  warnings.warn(\n",
      "/home/daniyal/working/envs/mlproject/lib/python3.10/site-packages/sklearn/svm/_base.py:1244: ConvergenceWarning: Liblinear failed to converge, increase the number of iterations.\n",
      "  warnings.warn(\n"
     ]
    },
    {
     "name": "stdout",
     "output_type": "stream",
     "text": [
      "Accuracy Score: 31.22%\n",
      "GaussianNB()\n",
      "Accuracy Score: 50.41%\n",
      "LabelPropagation()\n",
      "Unable to allocate 112. GiB for an array with shape (122400, 122400) and data type float64\n",
      "LabelSpreading()\n",
      "Unable to allocate 112. GiB for an array with shape (122400, 122400) and data type float64\n",
      "LinearDiscriminantAnalysis()\n",
      "Accuracy Score: 31.36%\n",
      "LinearSVC()\n"
     ]
    },
    {
     "name": "stderr",
     "output_type": "stream",
     "text": [
      "/home/daniyal/working/envs/mlproject/lib/python3.10/site-packages/sklearn/svm/_base.py:1244: ConvergenceWarning: Liblinear failed to converge, increase the number of iterations.\n",
      "  warnings.warn(\n"
     ]
    },
    {
     "name": "stdout",
     "output_type": "stream",
     "text": [
      "Accuracy Score: 32.09%\n",
      "LogisticRegression()\n",
      "Accuracy Score: 31.46%\n",
      "LogisticRegressionCV()\n",
      "Accuracy Score: 31.42%\n",
      "SGDClassifier()\n",
      "Accuracy Score: 31.81%\n",
      "MultinomialNB()\n",
      "Negative values in data passed to MultinomialNB (input X)\n",
      "NearestCentroid()\n",
      "Accuracy Score: 33.37%\n",
      "KNeighborsClassifier()\n",
      "Accuracy Score: 71.84%\n",
      "NuSVC()\n"
     ]
    }
   ],
   "source": [
    "for obj in class_objects:\n",
    "    process_classification(obj)"
   ]
  }
 ],
 "metadata": {
  "kernelspec": {
   "display_name": "ml",
   "language": "python",
   "name": "python3"
  },
  "language_info": {
   "codemirror_mode": {
    "name": "ipython",
    "version": 3
   },
   "file_extension": ".py",
   "mimetype": "text/x-python",
   "name": "python",
   "nbconvert_exporter": "python",
   "pygments_lexer": "ipython3",
   "version": "3.10.6"
  },
  "orig_nbformat": 4
 },
 "nbformat": 4,
 "nbformat_minor": 2
}
